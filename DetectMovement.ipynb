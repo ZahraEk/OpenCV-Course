{
 "cells": [
  {
   "cell_type": "markdown",
   "id": "45f018a9",
   "metadata": {},
   "source": [
    "# Frame differencing :\n",
    "\n",
    "When we consider a live video stream, the difference between successive \n",
    "frames gives us a lot of information. The concept is fairly straightforward! We just \n",
    "take the difference between successive frames and display the differences.\n",
    "\n",
    "only the moving parts in the video get \n",
    "highlighted. This gives us a good starting point to see what areas are moving in the \n",
    "video.\n",
    "\n",
    "More details in :[📄OpenCV_Course.pdf](https://github.com/ZahraEk/OpenCV-Course/blob/main/OpenCV_Course.pdf) | pages 40-42"
   ]
  },
  {
   "cell_type": "code",
   "execution_count": 6,
   "id": "6f80e9a9",
   "metadata": {},
   "outputs": [],
   "source": [
    "import cv2\n",
    "\n",
    "# Open the video file for reading\n",
    "cap = cv2.VideoCapture(\"videos/traffic.flv\")\n",
    "\n",
    "# Initialize variables to store frames\n",
    "cur_frame, prev_frame, next_frame = None, None, None\n",
    "\n",
    "# Function to calculate frame difference\n",
    "def frame_diff(prev_frame, cur_frame, next_frame):\n",
    "    \n",
    "    # Absolute difference between current frame and next frame \n",
    "    diff_frames1 = cv2.absdiff(next_frame, cur_frame)\n",
    "    \n",
    "    # Absolute difference between current frame and previous frame\n",
    "    diff_frames2 = cv2.absdiff(cur_frame, prev_frame)\n",
    "    \n",
    "    # Return the result of bitwise 'AND' between the above two resultant images\n",
    "    return cv2.bitwise_and(diff_frames1, diff_frames2)\n",
    "\n",
    "# Capture a frame from the video\n",
    "success, frame = cap.read()\n",
    "\n",
    "while success:\n",
    "    \n",
    "    # Check if frame is read correctly (ret is True)\n",
    "    if not success:\n",
    "        print(\"Can't receive frame (stream end?). Exiting ...\")\n",
    "        break\n",
    "        \n",
    "    # Update frames\n",
    "    prev_frame = cur_frame\n",
    "    cur_frame = next_frame\n",
    "    next_frame = cv2.cvtColor(frame, cv2.COLOR_RGB2GRAY)\n",
    "\n",
    "    # Check if previous frame is available\n",
    "    if prev_frame is not None:\n",
    "        \n",
    "        # Display the frame with object movement\n",
    "        cv2.imshow('Frame', frame)\n",
    "        cv2.imshow('Object Movement', frame_diff(prev_frame, cur_frame, next_frame))\n",
    "\n",
    "    k = cv2.waitKey(50)\n",
    "    if k == 27:  # Escape\n",
    "        break\n",
    "\n",
    "    # Capture the next frame from the video\n",
    "    success, frame = cap.read()\n",
    "\n",
    "# Release the video capture object and close OpenCV windows\n",
    "cap.release()\n",
    "cv2.destroyAllWindows()"
   ]
  }
 ],
 "metadata": {
  "kernelspec": {
   "display_name": "Python 3 (ipykernel)",
   "language": "python",
   "name": "python3"
  },
  "language_info": {
   "codemirror_mode": {
    "name": "ipython",
    "version": 3
   },
   "file_extension": ".py",
   "mimetype": "text/x-python",
   "name": "python",
   "nbconvert_exporter": "python",
   "pygments_lexer": "ipython3",
   "version": "3.11.4"
  }
 },
 "nbformat": 4,
 "nbformat_minor": 5
}
