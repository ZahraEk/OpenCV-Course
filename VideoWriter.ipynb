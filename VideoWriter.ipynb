{
  "nbformat": 4,
  "nbformat_minor": 0,
  "metadata": {
    "colab": {
      "provenance": [],
      "mount_file_id": "1rAiKn9QKFISJGB4Vvdbg6GTKy1Zx0pF3",
      "authorship_tag": "ABX9TyPLrCpUX07vpRapwnCgAd+l",
      "include_colab_link": true
    },
    "kernelspec": {
      "name": "python3",
      "display_name": "Python 3"
    },
    "language_info": {
      "name": "python"
    }
  },
  "cells": [
    {
      "cell_type": "markdown",
      "metadata": {
        "id": "view-in-github",
        "colab_type": "text"
      },
      "source": [
        "<a href=\"https://colab.research.google.com/github/ZahraEk/OpenCV-Course/blob/main/VideoWriter.ipynb\" target=\"_parent\"><img src=\"https://colab.research.google.com/assets/colab-badge.svg\" alt=\"Open In Colab\"/></a>"
      ]
    },
    {
      "cell_type": "markdown",
      "source": [
        "**VideoWriter :**\n",
        "\n",
        "`out = cv2.VideoWriter(output_file, fourcc, fps, (frame_width, frame_height))` :\n",
        "\n",
        "creates a VideoWriter object named \"out\". It is used to save the output video. The parameters are:\n",
        "\n",
        "* output_file: The name and location of the output video file.\n",
        "\n",
        "* fourcc: The codec used for encoding the video.\n",
        "\n",
        "* fps: The frames per second for the output video.\n",
        "\n",
        "* (frame_width, frame_height): The dimensions of the frames in the output video.\n",
        "\n",
        "More details in :[📄OpenCV_Course.pdf](https://github.com/ZahraEk/OpenCV-Course/blob/main/OpenCV_Course.pdf) | pages 10-11\n",
        "\n",
        "\n",
        "---\n",
        "\n",
        "\n"
      ],
      "metadata": {
        "id": "z97yqKhW9FH6"
      }
    },
    {
      "cell_type": "code",
      "execution_count": null,
      "metadata": {
        "id": "tPJ2Ugo8it_a"
      },
      "outputs": [],
      "source": [
        "import cv2\n",
        "\n",
        "# Open the video file for reading\n",
        "cap = cv2.VideoCapture(\"drive/MyDrive/pedestrians.avi\")\n",
        "\n",
        "# Define the output video file name and codec\n",
        "output_file = \"drive/MyDrive/output_video.avi\"\n",
        "fourcc = cv2.VideoWriter_fourcc(*'XVID')\n",
        "\n",
        "# Define video properties\n",
        "fps = 40\n",
        "seconds = 2\n",
        "num_frames = fps * seconds\n",
        "\n",
        "# Get the frame dimensions\n",
        "frame_width = int(cap.get(3))\n",
        "frame_height = int(cap.get(4))\n",
        "\n",
        "# Create a VideoWriter object to save the video\n",
        "out = cv2.VideoWriter(output_file, fourcc, fps,(frame_width, frame_height))\n",
        "\n",
        "# Read and write frames\n",
        "for i in range(num_frames):\n",
        "    ret, frame = cap.read()\n",
        "\n",
        "    if not ret:\n",
        "        break\n",
        "\n",
        "    # Write the frame to the output video\n",
        "    out.write(frame)\n",
        "\n",
        "# Release the VideoCapture and VideoWriter objects\n",
        "cap.release()\n",
        "out.release()\n",
        "\n",
        "# Destroy any OpenCV windows that may be open\n",
        "cv2.destroyAllWindows()"
      ]
    },
    {
      "cell_type": "markdown",
      "source": [
        "> Output Video : [output_video.avi](https://drive.google.com/file/d/1-TL8B1NkDbu9vxf8wF1Ij7DRmxYB1pPJ/view?usp=drive_link)"
      ],
      "metadata": {
        "id": "D0937N0-abtH"
      }
    }
  ]
}